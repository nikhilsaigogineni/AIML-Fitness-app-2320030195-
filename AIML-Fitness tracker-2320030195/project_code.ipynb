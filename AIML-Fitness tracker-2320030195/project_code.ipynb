{
  "nbformat": 4,
  "nbformat_minor": 0,
  "metadata": {
    "colab": {
      "provenance": []
    },
    "kernelspec": {
      "name": "python3",
      "display_name": "Python 3"
    },
    "language_info": {
      "name": "python"
    }
  },
  "cells": [
    {
      "cell_type": "code",
      "execution_count": 3,
      "metadata": {
        "colab": {
          "base_uri": "https://localhost:8080/"
        },
        "id": "Ig71ODDtuvK4",
        "outputId": "60c7a932-d01d-4e70-bd31-d99709c7e59d"
      },
      "outputs": [
        {
          "output_type": "stream",
          "name": "stdout",
          "text": [
            "Based on your preferences, we recommend: Cardio, Strength workouts.\n",
            "  User ID Age  Gender Height (cm) Weight (kg) Activity Level  \\\n",
            "0       1  25  Female         165          60         Active   \n",
            "1       2  40    Male         180          85      Sedentary   \n",
            "\n",
            "  Health Conditions Preferred Workout Types Frequency (times/week)  \\\n",
            "0              None        Cardio, Strength                      4   \n",
            "1      Hypertension                Strength                      3   \n",
            "\n",
            "  Duration (minutes)    Goal Type Target Weight (kg) Satisfaction Rating  \\\n",
            "0                 30  Weight Loss                 55                   4   \n",
            "1                 45  Muscle Gain                 90                None   \n",
            "\n",
            "            Suggestions  \n",
            "0  More cardio options.  \n",
            "1                  None  \n"
          ]
        }
      ],
      "source": [
        "import pandas as pd\n",
        "\n",
        "class FitnessChatbot:\n",
        "    def __init__(self):\n",
        "        # Initialize an empty DataFrame to hold user data\n",
        "        self.user_data = pd.DataFrame(columns=[\n",
        "            'User ID', 'Age', 'Gender', 'Height (cm)', 'Weight (kg)',\n",
        "            'Activity Level', 'Health Conditions', 'Preferred Workout Types',\n",
        "            'Frequency (times/week)', 'Duration (minutes)', 'Goal Type',\n",
        "            'Target Weight (kg)', 'Satisfaction Rating', 'Suggestions'\n",
        "        ])\n",
        "        self.user_counter = 1  # User ID counter\n",
        "\n",
        "    def add_user(self, age, gender, height, weight, activity_level, health_conditions, workout_types, frequency, duration, goal_type, target_weight):\n",
        "        # Create a new user record as a DataFrame\n",
        "        new_user = pd.DataFrame({\n",
        "            'User ID': [self.user_counter],\n",
        "            'Age': [age],\n",
        "            'Gender': [gender],\n",
        "            'Height (cm)': [height],\n",
        "            'Weight (kg)': [weight],\n",
        "            'Activity Level': [activity_level],\n",
        "            'Health Conditions': [health_conditions],\n",
        "            'Preferred Workout Types': [workout_types],\n",
        "            'Frequency (times/week)': [frequency],\n",
        "            'Duration (minutes)': [duration],\n",
        "            'Goal Type': [goal_type],\n",
        "            'Target Weight (kg)': [target_weight],\n",
        "            'Satisfaction Rating': [None],\n",
        "            'Suggestions': [None]\n",
        "        })\n",
        "\n",
        "        # Concatenate new user to the DataFrame\n",
        "        self.user_data = pd.concat([self.user_data, new_user], ignore_index=True)\n",
        "        self.user_counter += 1\n",
        "\n",
        "    def recommend_workout(self, user_id):\n",
        "        # Recommend workouts based on user's preferences\n",
        "        user = self.user_data.loc[self.user_data['User ID'] == user_id]\n",
        "        if user.empty:\n",
        "            return \"User not found.\"\n",
        "\n",
        "        workout_types = user['Preferred Workout Types'].values[0].split(', ')\n",
        "        return f\"Based on your preferences, we recommend: {', '.join(workout_types)} workouts.\"\n",
        "\n",
        "    def provide_feedback(self, user_id, satisfaction_rating, suggestions):\n",
        "        # Update user feedback\n",
        "        self.user_data.loc[self.user_data['User ID'] == user_id, 'Satisfaction Rating'] = satisfaction_rating\n",
        "        self.user_data.loc[self.user_data['User ID'] == user_id, 'Suggestions'] = suggestions\n",
        "\n",
        "    def display_user_data(self):\n",
        "        # Display all user data\n",
        "        print(self.user_data)\n",
        "\n",
        "# Example Usage\n",
        "if __name__ == \"__main__\":\n",
        "    chatbot = FitnessChatbot()\n",
        "\n",
        "    # Adding users\n",
        "    chatbot.add_user(age=25, gender='Female', height=165, weight=60, activity_level='Active',\n",
        "                     health_conditions='None', workout_types='Cardio, Strength',\n",
        "                     frequency=4, duration=30, goal_type='Weight Loss', target_weight=55)\n",
        "\n",
        "    chatbot.add_user(age=40, gender='Male', height=180, weight=85, activity_level='Sedentary',\n",
        "                     health_conditions='Hypertension', workout_types='Strength',\n",
        "                     frequency=3, duration=45, goal_type='Muscle Gain', target_weight=90)\n",
        "\n",
        "    # Recommend workout for user with User ID 1\n",
        "    print(chatbot.recommend_workout(user_id=1))\n",
        "\n",
        "    # Provide feedback\n",
        "    chatbot.provide_feedback(user_id=1, satisfaction_rating=4, suggestions=\"More cardio options.\")\n",
        "\n",
        "    # Display user data\n",
        "    chatbot.display_user_data()\n"
      ]
    }
  ]
}